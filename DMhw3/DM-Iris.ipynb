{
 "cells": [
  {
   "cell_type": "markdown",
   "id": "e6742d9b",
   "metadata": {},
   "source": [
    "# 載入相關套件\n"
   ]
  },
  {
   "cell_type": "code",
   "execution_count": 1,
   "id": "cf50a787",
   "metadata": {},
   "outputs": [],
   "source": [
    "import pandas as pd\n",
    "import numpy as np\n",
    "import matplotlib.pyplot as plt\n",
    "from sklearn.metrics import accuracy_score\n",
    "from sklearn.datasets import load_iris\n",
    "from sklearn.cluster import KMeans\n",
    "from sklearn.cluster import DBSCAN\n",
    "import scipy.cluster.hierarchy as sch\n",
    "import datetime\n",
    "import seaborn as sns\n",
    "from sklearn import metrics\n",
    "from sklearn.metrics import pairwise_distances"
   ]
  },
  {
   "cell_type": "markdown",
   "id": "dfcd318d",
   "metadata": {},
   "source": [
    "# 載入資料集"
   ]
  },
  {
   "cell_type": "code",
   "execution_count": 2,
   "id": "5cff1c5d",
   "metadata": {},
   "outputs": [
    {
     "data": {
      "text/plain": [
       "array([[5.1, 3.5, 1.4, 0.2],\n",
       "       [4.9, 3. , 1.4, 0.2],\n",
       "       [4.7, 3.2, 1.3, 0.2],\n",
       "       [4.6, 3.1, 1.5, 0.2],\n",
       "       [5. , 3.6, 1.4, 0.2],\n",
       "       [5.4, 3.9, 1.7, 0.4],\n",
       "       [4.6, 3.4, 1.4, 0.3],\n",
       "       [5. , 3.4, 1.5, 0.2],\n",
       "       [4.4, 2.9, 1.4, 0.2],\n",
       "       [4.9, 3.1, 1.5, 0.1],\n",
       "       [5.4, 3.7, 1.5, 0.2],\n",
       "       [4.8, 3.4, 1.6, 0.2],\n",
       "       [4.8, 3. , 1.4, 0.1],\n",
       "       [4.3, 3. , 1.1, 0.1],\n",
       "       [5.8, 4. , 1.2, 0.2],\n",
       "       [5.7, 4.4, 1.5, 0.4],\n",
       "       [5.4, 3.9, 1.3, 0.4],\n",
       "       [5.1, 3.5, 1.4, 0.3],\n",
       "       [5.7, 3.8, 1.7, 0.3],\n",
       "       [5.1, 3.8, 1.5, 0.3],\n",
       "       [5.4, 3.4, 1.7, 0.2],\n",
       "       [5.1, 3.7, 1.5, 0.4],\n",
       "       [4.6, 3.6, 1. , 0.2],\n",
       "       [5.1, 3.3, 1.7, 0.5],\n",
       "       [4.8, 3.4, 1.9, 0.2],\n",
       "       [5. , 3. , 1.6, 0.2],\n",
       "       [5. , 3.4, 1.6, 0.4],\n",
       "       [5.2, 3.5, 1.5, 0.2],\n",
       "       [5.2, 3.4, 1.4, 0.2],\n",
       "       [4.7, 3.2, 1.6, 0.2],\n",
       "       [4.8, 3.1, 1.6, 0.2],\n",
       "       [5.4, 3.4, 1.5, 0.4],\n",
       "       [5.2, 4.1, 1.5, 0.1],\n",
       "       [5.5, 4.2, 1.4, 0.2],\n",
       "       [4.9, 3.1, 1.5, 0.2],\n",
       "       [5. , 3.2, 1.2, 0.2],\n",
       "       [5.5, 3.5, 1.3, 0.2],\n",
       "       [4.9, 3.6, 1.4, 0.1],\n",
       "       [4.4, 3. , 1.3, 0.2],\n",
       "       [5.1, 3.4, 1.5, 0.2],\n",
       "       [5. , 3.5, 1.3, 0.3],\n",
       "       [4.5, 2.3, 1.3, 0.3],\n",
       "       [4.4, 3.2, 1.3, 0.2],\n",
       "       [5. , 3.5, 1.6, 0.6],\n",
       "       [5.1, 3.8, 1.9, 0.4],\n",
       "       [4.8, 3. , 1.4, 0.3],\n",
       "       [5.1, 3.8, 1.6, 0.2],\n",
       "       [4.6, 3.2, 1.4, 0.2],\n",
       "       [5.3, 3.7, 1.5, 0.2],\n",
       "       [5. , 3.3, 1.4, 0.2],\n",
       "       [7. , 3.2, 4.7, 1.4],\n",
       "       [6.4, 3.2, 4.5, 1.5],\n",
       "       [6.9, 3.1, 4.9, 1.5],\n",
       "       [5.5, 2.3, 4. , 1.3],\n",
       "       [6.5, 2.8, 4.6, 1.5],\n",
       "       [5.7, 2.8, 4.5, 1.3],\n",
       "       [6.3, 3.3, 4.7, 1.6],\n",
       "       [4.9, 2.4, 3.3, 1. ],\n",
       "       [6.6, 2.9, 4.6, 1.3],\n",
       "       [5.2, 2.7, 3.9, 1.4],\n",
       "       [5. , 2. , 3.5, 1. ],\n",
       "       [5.9, 3. , 4.2, 1.5],\n",
       "       [6. , 2.2, 4. , 1. ],\n",
       "       [6.1, 2.9, 4.7, 1.4],\n",
       "       [5.6, 2.9, 3.6, 1.3],\n",
       "       [6.7, 3.1, 4.4, 1.4],\n",
       "       [5.6, 3. , 4.5, 1.5],\n",
       "       [5.8, 2.7, 4.1, 1. ],\n",
       "       [6.2, 2.2, 4.5, 1.5],\n",
       "       [5.6, 2.5, 3.9, 1.1],\n",
       "       [5.9, 3.2, 4.8, 1.8],\n",
       "       [6.1, 2.8, 4. , 1.3],\n",
       "       [6.3, 2.5, 4.9, 1.5],\n",
       "       [6.1, 2.8, 4.7, 1.2],\n",
       "       [6.4, 2.9, 4.3, 1.3],\n",
       "       [6.6, 3. , 4.4, 1.4],\n",
       "       [6.8, 2.8, 4.8, 1.4],\n",
       "       [6.7, 3. , 5. , 1.7],\n",
       "       [6. , 2.9, 4.5, 1.5],\n",
       "       [5.7, 2.6, 3.5, 1. ],\n",
       "       [5.5, 2.4, 3.8, 1.1],\n",
       "       [5.5, 2.4, 3.7, 1. ],\n",
       "       [5.8, 2.7, 3.9, 1.2],\n",
       "       [6. , 2.7, 5.1, 1.6],\n",
       "       [5.4, 3. , 4.5, 1.5],\n",
       "       [6. , 3.4, 4.5, 1.6],\n",
       "       [6.7, 3.1, 4.7, 1.5],\n",
       "       [6.3, 2.3, 4.4, 1.3],\n",
       "       [5.6, 3. , 4.1, 1.3],\n",
       "       [5.5, 2.5, 4. , 1.3],\n",
       "       [5.5, 2.6, 4.4, 1.2],\n",
       "       [6.1, 3. , 4.6, 1.4],\n",
       "       [5.8, 2.6, 4. , 1.2],\n",
       "       [5. , 2.3, 3.3, 1. ],\n",
       "       [5.6, 2.7, 4.2, 1.3],\n",
       "       [5.7, 3. , 4.2, 1.2],\n",
       "       [5.7, 2.9, 4.2, 1.3],\n",
       "       [6.2, 2.9, 4.3, 1.3],\n",
       "       [5.1, 2.5, 3. , 1.1],\n",
       "       [5.7, 2.8, 4.1, 1.3],\n",
       "       [6.3, 3.3, 6. , 2.5],\n",
       "       [5.8, 2.7, 5.1, 1.9],\n",
       "       [7.1, 3. , 5.9, 2.1],\n",
       "       [6.3, 2.9, 5.6, 1.8],\n",
       "       [6.5, 3. , 5.8, 2.2],\n",
       "       [7.6, 3. , 6.6, 2.1],\n",
       "       [4.9, 2.5, 4.5, 1.7],\n",
       "       [7.3, 2.9, 6.3, 1.8],\n",
       "       [6.7, 2.5, 5.8, 1.8],\n",
       "       [7.2, 3.6, 6.1, 2.5],\n",
       "       [6.5, 3.2, 5.1, 2. ],\n",
       "       [6.4, 2.7, 5.3, 1.9],\n",
       "       [6.8, 3. , 5.5, 2.1],\n",
       "       [5.7, 2.5, 5. , 2. ],\n",
       "       [5.8, 2.8, 5.1, 2.4],\n",
       "       [6.4, 3.2, 5.3, 2.3],\n",
       "       [6.5, 3. , 5.5, 1.8],\n",
       "       [7.7, 3.8, 6.7, 2.2],\n",
       "       [7.7, 2.6, 6.9, 2.3],\n",
       "       [6. , 2.2, 5. , 1.5],\n",
       "       [6.9, 3.2, 5.7, 2.3],\n",
       "       [5.6, 2.8, 4.9, 2. ],\n",
       "       [7.7, 2.8, 6.7, 2. ],\n",
       "       [6.3, 2.7, 4.9, 1.8],\n",
       "       [6.7, 3.3, 5.7, 2.1],\n",
       "       [7.2, 3.2, 6. , 1.8],\n",
       "       [6.2, 2.8, 4.8, 1.8],\n",
       "       [6.1, 3. , 4.9, 1.8],\n",
       "       [6.4, 2.8, 5.6, 2.1],\n",
       "       [7.2, 3. , 5.8, 1.6],\n",
       "       [7.4, 2.8, 6.1, 1.9],\n",
       "       [7.9, 3.8, 6.4, 2. ],\n",
       "       [6.4, 2.8, 5.6, 2.2],\n",
       "       [6.3, 2.8, 5.1, 1.5],\n",
       "       [6.1, 2.6, 5.6, 1.4],\n",
       "       [7.7, 3. , 6.1, 2.3],\n",
       "       [6.3, 3.4, 5.6, 2.4],\n",
       "       [6.4, 3.1, 5.5, 1.8],\n",
       "       [6. , 3. , 4.8, 1.8],\n",
       "       [6.9, 3.1, 5.4, 2.1],\n",
       "       [6.7, 3.1, 5.6, 2.4],\n",
       "       [6.9, 3.1, 5.1, 2.3],\n",
       "       [5.8, 2.7, 5.1, 1.9],\n",
       "       [6.8, 3.2, 5.9, 2.3],\n",
       "       [6.7, 3.3, 5.7, 2.5],\n",
       "       [6.7, 3. , 5.2, 2.3],\n",
       "       [6.3, 2.5, 5. , 1.9],\n",
       "       [6.5, 3. , 5.2, 2. ],\n",
       "       [6.2, 3.4, 5.4, 2.3],\n",
       "       [5.9, 3. , 5.1, 1.8]])"
      ]
     },
     "execution_count": 2,
     "metadata": {},
     "output_type": "execute_result"
    }
   ],
   "source": [
    "iris = load_iris()\n",
    "iris.data"
   ]
  },
  {
   "cell_type": "code",
   "execution_count": 3,
   "id": "ebc51296",
   "metadata": {
    "scrolled": true
   },
   "outputs": [
    {
     "data": {
      "text/plain": [
       "array([0, 0, 0, 0, 0, 0, 0, 0, 0, 0, 0, 0, 0, 0, 0, 0, 0, 0, 0, 0, 0, 0,\n",
       "       0, 0, 0, 0, 0, 0, 0, 0, 0, 0, 0, 0, 0, 0, 0, 0, 0, 0, 0, 0, 0, 0,\n",
       "       0, 0, 0, 0, 0, 0, 1, 1, 1, 1, 1, 1, 1, 1, 1, 1, 1, 1, 1, 1, 1, 1,\n",
       "       1, 1, 1, 1, 1, 1, 1, 1, 1, 1, 1, 1, 1, 1, 1, 1, 1, 1, 1, 1, 1, 1,\n",
       "       1, 1, 1, 1, 1, 1, 1, 1, 1, 1, 1, 1, 2, 2, 2, 2, 2, 2, 2, 2, 2, 2,\n",
       "       2, 2, 2, 2, 2, 2, 2, 2, 2, 2, 2, 2, 2, 2, 2, 2, 2, 2, 2, 2, 2, 2,\n",
       "       2, 2, 2, 2, 2, 2, 2, 2, 2, 2, 2, 2, 2, 2, 2, 2, 2, 2])"
      ]
     },
     "execution_count": 3,
     "metadata": {},
     "output_type": "execute_result"
    }
   ],
   "source": [
    "iris.target"
   ]
  },
  {
   "cell_type": "markdown",
   "id": "ff851859",
   "metadata": {},
   "source": [
    "# Purity運算函式"
   ]
  },
  {
   "cell_type": "code",
   "execution_count": 4,
   "id": "8802c9fe",
   "metadata": {},
   "outputs": [],
   "source": [
    "def purity_score(y_true, y_pred):\n",
    "    \"\"\"純度值\n",
    "        參數\n",
    "            y_true(np.ndarray): n*1 矩陣之實際labels\n",
    "            y_pred(np.ndarray): n*1 矩陣預測群數\n",
    "\n",
    "        Returns:\n",
    "            float: puritr值\n",
    "    \"\"\"\n",
    "    # matrix which will hold the majority-voted labels\n",
    "    #生成一個真實標籤大小的矩陣，且個數皆為0\n",
    "    y_voted_labels = np.zeros(y_true.shape) #e.g. array([0., 0., 0.,..., 0., 0.])\n",
    "    \n",
    "    # 排序標籤 Ordering labels\n",
    "    ## 標籤可能會遺失，像是某集合(0,2)，其中缺少1。Labels might be missing e.g with set like 0,2 where 1 is missing\n",
    "    ## 首先找到唯一標籤，然後將標籤變成有順序的集合。First find the unique labels, then map the labels to an ordered set\n",
    "    ## 0,2就會變成0,1。0,2 should become 0,1\n",
    "    \n",
    "    #讀取標籤類別個數\n",
    "    labels = np.unique(y_true) #e.g. array([0, 1, 2])\n",
    "    \n",
    "    ordered_labels = np.arange(labels.shape[0]) #e.g. array([0, 1, 2])\n",
    "    for k in range(labels.shape[0]):\n",
    "        #將資料集y的類別放進ordered_labels\n",
    "        y_true[y_true==labels[k]] = ordered_labels[k]\n",
    "        \n",
    "    # 更新唯一標籤。Update unique labels\n",
    "    labels = np.unique(y_true)\n",
    "    # 我們將bins的數量設定為n_classes+2。We set the number of bins to be n_classes+2 so that \n",
    "    # 我們計算兩個連續bins之間類別的實際發生次數。we count the actual occurence of classes between two consecutive bins\n",
    "    # 較大的會被排除掉。the bigger being excluded [bin_i, bin_i+1]\n",
    "    bins = np.concatenate((labels, [np.max(labels)+1]), axis=0) #e.g. array([0, 1, 2, 3])\n",
    "\n",
    "    for cluster in np.unique(y_pred):\n",
    "        hist, _ = np.histogram(y_true[y_pred==cluster], bins=bins)\n",
    "        # 找群中最常見的標籤。Find the most present label in the cluster\n",
    "        winner = np.argmax(hist)\n",
    "        y_voted_labels[y_pred==cluster] = winner\n",
    "\n",
    "    return accuracy_score(y_true, y_voted_labels)"
   ]
  },
  {
   "cell_type": "markdown",
   "id": "0705cd8f",
   "metadata": {},
   "source": [
    "# 原始分群"
   ]
  },
  {
   "cell_type": "code",
   "execution_count": 5,
   "id": "97912630",
   "metadata": {},
   "outputs": [
    {
     "data": {
      "text/plain": [
       "<matplotlib.collections.PathCollection at 0x243cb41c340>"
      ]
     },
     "execution_count": 5,
     "metadata": {},
     "output_type": "execute_result"
    },
    {
     "data": {
      "image/png": "[encoded data removed]",
      "text/plain": [
       "<Figure size 432x288 with 1 Axes>"
      ]
     },
     "metadata": {
      "needs_background": "light"
     },
     "output_type": "display_data"
    }
   ],
   "source": [
    "plt.title(\"Original\")\n",
    "plt.xlabel('SepalLength(cm)')\n",
    "plt.ylabel('SepalWidth(cm)')\n",
    "x = iris.data[iris.target==0]\n",
    "y = iris.data[iris.target==1]\n",
    "z = iris.data[iris.target==2]\n",
    "plt.scatter(x[:, 0], x[:, 1], c=\"red\", marker='.',s=20)  \n",
    "plt.scatter(y[:, 0], y[:, 1], c=\"green\", marker='^',s=20)  \n",
    "plt.scatter(z[:, 0], z[:, 1], c=\"blue\", marker='*',s=20)  \n",
    "#scatter=plt.scatter(iris.data[:,0],iris.data[:,1],c=Kclustering.labels_)"
   ]
  },
  {
   "cell_type": "code",
   "execution_count": 6,
   "id": "c54bfca8",
   "metadata": {},
   "outputs": [
    {
     "data": {
      "text/plain": [
       "array([0, 1, 2])"
      ]
     },
     "execution_count": 6,
     "metadata": {},
     "output_type": "execute_result"
    }
   ],
   "source": [
    "np.unique(iris.target)"
   ]
  },
  {
   "cell_type": "markdown",
   "id": "0d71b034",
   "metadata": {},
   "source": [
    "# K-Mean"
   ]
  },
  {
   "cell_type": "code",
   "execution_count": 7,
   "id": "41d84a70",
   "metadata": {},
   "outputs": [
    {
     "name": "stdout",
     "output_type": "stream",
     "text": [
      "[1 1 1 1 1 1 1 1 1 1 1 1 1 1 1 1 1 1 1 1 1 1 1 1 1 1 1 1 1 1 1 1 1 1 1 1 1\n",
      " 1 1 1 1 1 1 1 1 1 1 1 1 1 2 2 0 2 2 2 2 2 2 2 2 2 2 2 2 2 2 2 2 2 2 2 2 2\n",
      " 2 2 2 0 2 2 2 2 2 2 2 2 2 2 2 2 2 2 2 2 2 2 2 2 2 2 0 2 0 0 0 0 2 0 0 0 0\n",
      " 0 0 2 2 0 0 0 0 2 0 2 0 2 0 0 2 2 0 0 0 0 0 2 0 0 0 0 2 0 0 0 2 0 0 0 2 0\n",
      " 0 2]\n",
      "執行時間： 0:00:00.028919\n",
      "Purity: 0.8933333333333333\n",
      "Silhouette Coefficient: 0.5528190123564091\n"
     ]
    },
    {
     "data": {
      "image/png": "[encoded data removed]",
      "text/plain": [
       "<Figure size 432x288 with 1 Axes>"
      ]
     },
     "metadata": {
      "needs_background": "light"
     },
     "output_type": "display_data"
    }
   ],
   "source": [
    "#起始時間\n",
    "start = datetime.datetime.now()\n",
    "#訓練\n",
    "Kclustering= KMeans(n_clusters = 3).fit(iris.data)\n",
    "#結束時間\n",
    "end = datetime.datetime.now()\n",
    "#機器自動分群並預測結果\n",
    "print(Kclustering.labels_)\n",
    "#散佈圖\n",
    "plt.title('K-Mean')\n",
    "plt.xlabel('SepalLength(cm)')\n",
    "plt.ylabel('SepalWidth(cm)')\n",
    "x = iris.data[Kclustering.labels_==0]\n",
    "y = iris.data[Kclustering.labels_==1]\n",
    "z = iris.data[Kclustering.labels_==2]\n",
    "plt.scatter(x[:, 0], x[:, 1], c=\"red\", marker='.',s=20)  \n",
    "plt.scatter(y[:, 0], y[:, 1], c=\"green\", marker='^',s=20)  \n",
    "plt.scatter(z[:, 0], z[:, 1], c=\"blue\", marker='*',s=20)\n",
    "#scatter=plt.scatter(iris.data[:,0],iris.data[:,1],c=Kclustering.labe}ls_)\n",
    "#中心點\n",
    "centers = Kclustering.cluster_centers_\n",
    "plt.scatter(centers[:, 0], centers[:, 1], c='white', marker='o', edgecolors='black', s=100);\n",
    "#輸出程式花費時間\n",
    "print(\"執行時間：\", end - start)\n",
    "#輸出Purity指標\n",
    "print(\"Purity:\",purity_score(iris.target, Kclustering.labels_))\n",
    "#輸出Silhouette Coefficient指標\n",
    "print(\"Silhouette Coefficient:\",metrics.silhouette_score(iris.data, Kclustering.labels_,metric='euclidean'))"
   ]
  },
  {
   "cell_type": "markdown",
   "id": "eeb7ae9b",
   "metadata": {},
   "source": [
    "# Hierarchical Clustering"
   ]
  },
  {
   "cell_type": "code",
   "execution_count": 8,
   "id": "967761d1",
   "metadata": {},
   "outputs": [
    {
     "data": {
      "image/png": "[encoded data removed]",
      "text/plain": [
       "<Figure size 432x288 with 1 Axes>"
      ]
     },
     "metadata": {
      "needs_background": "light"
     },
     "output_type": "display_data"
    },
    {
     "name": "stdout",
     "output_type": "stream",
     "text": [
      "[1 1 1 1 1 1 1 1 1 1 1 1 1 1 1 1 1 1 1 1 1 1 1 1 1 1 1 1 1 1 1 1 1 1 1 1 1\n",
      " 1 1 1 1 1 1 1 1 1 1 1 1 1 3 3 3 3 3 3 3 3 3 3 3 3 3 3 3 3 3 3 3 3 3 3 3 3\n",
      " 3 3 3 2 3 3 3 3 3 3 3 3 3 3 3 3 3 3 3 3 3 3 3 3 3 3 2 3 2 2 2 2 3 2 2 2 2\n",
      " 2 2 3 3 2 2 2 2 3 2 3 2 3 2 2 3 3 2 2 2 2 2 3 3 2 2 2 3 2 2 2 3 2 2 2 3 2\n",
      " 2 3]\n",
      "執行時間： 0:00:02.377641\n",
      "Purity: 0.8933333333333333\n",
      "Silhouette Coefficient: 0.5543236611296415\n"
     ]
    }
   ],
   "source": [
    "#起始時間\n",
    "start = datetime.datetime.now()\n",
    "dis=sch.linkage(iris.data,metric='euclidean',method='ward')\n",
    "sch.dendrogram(dis)\n",
    "plt.title('Hierarchical Clustering Dendrogram')\n",
    "plt.show()\n",
    "Hclustering=sch.fcluster(dis,3,criterion='maxclust')\n",
    "print(Hclustering)\n",
    "#結束時間\n",
    "end = datetime.datetime.now()\n",
    "# 輸出程式花費時間\n",
    "print(\"執行時間：\", end - start)\n",
    "#輸出Purity指標\n",
    "print(\"Purity:\",purity_score(iris.target, Hclustering))\n",
    "#輸出Silhouette Coefficient指標\n",
    "print(\"Silhouette Coefficient:\",metrics.silhouette_score(iris.data, Hclustering,metric='euclidean'))"
   ]
  },
  {
   "cell_type": "code",
   "execution_count": 9,
   "id": "7eead357",
   "metadata": {},
   "outputs": [
    {
     "data": {
      "text/plain": [
       "<matplotlib.collections.PathCollection at 0x243cccba8e0>"
      ]
     },
     "execution_count": 9,
     "metadata": {},
     "output_type": "execute_result"
    },
    {
     "data": {
      "image/png": "[encoded data removed]",
      "text/plain": [
       "<Figure size 432x288 with 1 Axes>"
      ]
     },
     "metadata": {
      "needs_background": "light"
     },
     "output_type": "display_data"
    }
   ],
   "source": [
    "#散佈圖\n",
    "plt.title('Hierarchical Clustering')\n",
    "plt.xlabel('SepalLength(cm)')\n",
    "plt.ylabel('SepalWidth(cm)')\n",
    "x = iris.data[Hclustering==1]\n",
    "y = iris.data[Hclustering==2]\n",
    "z = iris.data[Hclustering==3]\n",
    "plt.scatter(x[:, 0], x[:, 1], c=\"red\", marker='.',s=20)  \n",
    "plt.scatter(y[:, 0], y[:, 1], c=\"green\", marker='^',s=20)  \n",
    "plt.scatter(z[:, 0], z[:, 1], c=\"blue\", marker='*',s=20)\n",
    "#scatter=plt.scatter(iris.data[:,0],iris.data[:,1],c=Hclustering)\n",
    "#plt.legend(handles=scatter.legend_elements()[0],labels=iris.target_names.tolist())"
   ]
  },
  {
   "cell_type": "markdown",
   "id": "bf8c40e1",
   "metadata": {},
   "source": [
    "# DBSCAN"
   ]
  },
  {
   "cell_type": "code",
   "execution_count": 10,
   "id": "eb2088ca",
   "metadata": {
    "scrolled": true
   },
   "outputs": [
    {
     "name": "stdout",
     "output_type": "stream",
     "text": [
      "[ 0  0  0  0  0  0  0  0  0  0  0  0  0  0 -1  0  0  0  0  0  0  0 -1  0\n",
      "  0  0  0  0  0  0  0  0  0  0  0  0  0  0  0  0  0 -1  0  0  0  0  0  0\n",
      "  0  0  1  1  1  1  1  1  1  3  1  1  3  1 -1  1 -1  1  1  1 -1  1  2  1\n",
      "  2  1  1  1  1  1  1  1  1  1  1  2  1 -1  1 -1  1  1  1  1  1  3  1  1\n",
      "  1  1  3  1 -1  2  2  2  2 -1 -1 -1 -1 -1  2  2  2  2 -1  2  2 -1 -1 -1\n",
      "  2  2 -1  2  2 -1  2  2  2 -1 -1 -1  2  2 -1 -1  2  2  2  2  2  2  2  2\n",
      "  2  2  2  2  2  2]\n",
      "執行時間： 0:00:00.003988\n",
      "Purity: 0.9266666666666666\n",
      "Silhouette Coefficient: 0.32525548084540423\n"
     ]
    }
   ],
   "source": [
    "#起始時間\n",
    "start = datetime.datetime.now()\n",
    "#訓練\n",
    "Dclustering=DBSCAN(eps=0.4,min_samples=4).fit(iris.data)\n",
    "#機器自動分群並預測結果\n",
    "print(Dclustering.labels_)\n",
    "#結束時間\n",
    "end = datetime.datetime.now()\n",
    "# 輸出程式花費時間\n",
    "print(\"執行時間：\", end - start)\n",
    "#輸出Purity指標\n",
    "print(\"Purity:\",purity_score(iris.target, Dclustering.labels_))\n",
    "#輸出Silhouette Coefficient指標\n",
    "print(\"Silhouette Coefficient:\",metrics.silhouette_score(iris.data, Dclustering.labels_,metric='euclidean'))"
   ]
  },
  {
   "cell_type": "markdown",
   "id": "b9b2cc1e",
   "metadata": {},
   "source": [
    "# 選擇DBSCAN最佳參數"
   ]
  },
  {
   "cell_type": "code",
   "execution_count": 11,
   "id": "9d16f483",
   "metadata": {
    "scrolled": true
   },
   "outputs": [
    {
     "data": {
      "text/plain": [
       "<matplotlib.collections.PathCollection at 0x243ccd295b0>"
      ]
     },
     "execution_count": 11,
     "metadata": {},
     "output_type": "execute_result"
    },
    {
     "data": {
      "image/png": "[encoded data removed]",
      "text/plain": [
       "<Figure size 432x288 with 1 Axes>"
      ]
     },
     "metadata": {
      "needs_background": "light"
     },
     "output_type": "display_data"
    }
   ],
   "source": [
    "#散佈圖\n",
    "plt.title('DBSCAN')\n",
    "plt.xlabel('SepalLength(cm)')\n",
    "plt.ylabel('SepalWidth(cm)')\n",
    "x = iris.data[Dclustering.labels_==0]\n",
    "y = iris.data[Dclustering.labels_==1]\n",
    "z = iris.data[Dclustering.labels_==2]\n",
    "plt.scatter(x[:, 0], x[:, 1], c=\"red\", marker='.',s=20)  \n",
    "plt.scatter(y[:, 0], y[:, 1], c=\"green\", marker='^',s=20)  \n",
    "plt.scatter(z[:, 0], z[:, 1], c=\"blue\", marker='*',s=20)\n",
    "#scatter=plt.scatter(iris.data[:,0],iris.data[:,1],marker=np.unique(Dclustering.labels_.tolist()))\n",
    "#plt.legend(handles=scatter.legend_elements()[0],labels=iris.target_names.tolist())"
   ]
  },
  {
   "cell_type": "code",
   "execution_count": null,
   "id": "1ae9e4f0",
   "metadata": {},
   "outputs": [],
   "source": []
  }
 ],
 "metadata": {
  "kernelspec": {
   "display_name": "Python 3 (ipykernel)",
   "language": "python",
   "name": "python3"
  },
  "language_info": {
   "codemirror_mode": {
    "name": "ipython",
    "version": 3
   },
   "file_extension": ".py",
   "mimetype": "text/x-python",
   "name": "python",
   "nbconvert_exporter": "python",
   "pygments_lexer": "ipython3",
   "version": "3.9.7"
  }
 },
 "nbformat": 4,
 "nbformat_minor": 5
}
